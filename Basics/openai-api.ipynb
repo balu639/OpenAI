{
 "cells": [
  {
   "cell_type": "code",
   "execution_count": 8,
   "id": "835f8df8",
   "metadata": {},
   "outputs": [],
   "source": [
    "from openai import OpenAI\n",
    "from sk import my_sk"
   ]
  },
  {
   "cell_type": "code",
   "execution_count": 9,
   "id": "a4771317",
   "metadata": {},
   "outputs": [],
   "source": [
    "import time"
   ]
  },
  {
   "cell_type": "code",
   "execution_count": 11,
   "id": "fdad99a3",
   "metadata": {},
   "outputs": [],
   "source": [
    "openai.api_key = my_sk"
   ]
  },
  {
   "cell_type": "code",
   "execution_count": 13,
   "id": "2729a78e",
   "metadata": {},
   "outputs": [],
   "source": [
    "client = OpenAI(api_key = my_sk)\n",
    "chat_completion = openai.chat.completions.create(model='gpt-3.5-turbo',messages=[{'role': \"user\", \"content\":\"listen to your\"}])"
   ]
  },
  {
   "cell_type": "code",
   "execution_count": 16,
   "id": "6fc549a4",
   "metadata": {},
   "outputs": [
    {
     "data": {
      "text/plain": [
       "'{\"id\": \"chatcmpl-92O3KQFVAw4M87viEfXZW0oxRDhWd\", \"choices\": [{\"finish_reason\": \"stop\", \"index\": 0, \"logprobs\": null, \"message\": {\"content\": \" inner voice and trust your instincts. It\\'s important to pay attention to your own thoughts and feelings, as they can often guide you in the right direction. Trusting yourself and your intuition can help you make confident decisions and navigate through life\\'s challenges. Remember to also seek advice and guidance from trusted friends and family when needed, but ultimately listen to your own inner guidance.\", \"role\": \"assistant\", \"function_call\": null, \"tool_calls\": null}}], \"created\": 1710356142, \"model\": \"gpt-3.5-turbo-0125\", \"object\": \"chat.completion\", \"system_fingerprint\": \"fp_4f0b692a78\", \"usage\": {\"completion_tokens\": 74, \"prompt_tokens\": 10, \"total_tokens\": 84}}'"
      ]
     },
     "execution_count": 16,
     "metadata": {},
     "output_type": "execute_result"
    }
   ],
   "source": [
    "chat_completion.json()"
   ]
  },
  {
   "cell_type": "code",
   "execution_count": 17,
   "id": "17e6dc9d",
   "metadata": {},
   "outputs": [
    {
     "name": "stdout",
     "output_type": "stream",
     "text": [
      " inner voice and trust your instincts. It's important to pay attention to your own thoughts and feelings, as they can often guide you in the right direction. Trusting yourself and your intuition can help you make confident decisions and navigate through life's challenges. Remember to also seek advice and guidance from trusted friends and family when needed, but ultimately listen to your own inner guidance.\n"
     ]
    }
   ],
   "source": [
    "print(chat_completion.choices[0].message.content)"
   ]
  },
  {
   "cell_type": "code",
   "execution_count": 18,
   "id": "884f50bc",
   "metadata": {},
   "outputs": [],
   "source": [
    "#setting max response tokens in the response from chatgpt.Getting one word response\n",
    "chat_completion = openai.chat.completions.create(model='gpt-3.5-turbo',\n",
    "                                                 messages=[{'role': \"user\", \"content\":\"listen to your\"}],\n",
    "                                                max_tokens=1)"
   ]
  },
  {
   "cell_type": "code",
   "execution_count": 19,
   "id": "d8b22661",
   "metadata": {},
   "outputs": [
    {
     "name": "stdout",
     "output_type": "stream",
     "text": [
      " instincts\n"
     ]
    }
   ],
   "source": [
    "print(chat_completion.choices[0].message.content)"
   ]
  },
  {
   "cell_type": "code",
   "execution_count": 22,
   "id": "feffdac7",
   "metadata": {},
   "outputs": [
    {
     "name": "stdout",
     "output_type": "stream",
     "text": [
      " inner voice\n",
      " inner voice\n",
      "heart and\n",
      "heart,\n",
      " instincts.\n"
     ]
    }
   ],
   "source": [
    "#Getting n number of chat completion responses from chatgpt\n",
    "chat_completion = openai.chat.completions.create(model='gpt-3.5-turbo',\n",
    "                                                 messages=[{'role': \"user\", \"content\":\"listen to your\"}],\n",
    "                                                max_tokens=2,\n",
    "                                                n = 5)\n",
    "\n",
    "for chat in chat_completion.choices:\n",
    "    print(chat.message.content)"
   ]
  },
  {
   "cell_type": "code",
   "execution_count": 23,
   "id": "5b842f2b",
   "metadata": {},
   "outputs": [
    {
     "name": "stdout",
     "output_type": "stream",
     "text": [
      " inner voice\n",
      " inner voice\n",
      " inner voice\n",
      " inner voice\n",
      " inner voice\n"
     ]
    }
   ],
   "source": [
    "#setting temperature parameter to adjust the randomness of the responses from chatgpt\n",
    "chat_completion = openai.chat.completions.create(model='gpt-3.5-turbo',\n",
    "                                                 messages=[{'role': \"user\", \"content\":\"listen to your\"}],\n",
    "                                                max_tokens=2,\n",
    "                                                n = 5,\n",
    "                                                temperature=0)\n",
    "\n",
    "for chat in chat_completion.choices:\n",
    "    print(chat.message.content)"
   ]
  },
  {
   "cell_type": "code",
   "execution_count": 24,
   "id": "e0d28485",
   "metadata": {},
   "outputs": [
    {
     "name": "stdout",
     "output_type": "stream",
     "text": [
      "heart’s\n",
      " gut instinct\n",
      " inner voice\n",
      "|B\n",
      " gut instinct\n"
     ]
    }
   ],
   "source": [
    "#setting temperature parameter to adjust the randomness of the responses from chatgpt\n",
    "chat_completion = openai.chat.completions.create(model='gpt-3.5-turbo',\n",
    "                                                 messages=[{'role': \"user\", \"content\":\"listen to your\"}],\n",
    "                                                max_tokens=2,\n",
    "                                                n = 5,\n",
    "                                                temperature=2)\n",
    "\n",
    "for chat in chat_completion.choices:\n",
    "    print(chat.message.content)"
   ]
  },
  {
   "cell_type": "code",
   "execution_count": null,
   "id": "abdc4a3e",
   "metadata": {},
   "outputs": [],
   "source": []
  }
 ],
 "metadata": {
  "kernelspec": {
   "display_name": "Python 3 (ipykernel)",
   "language": "python",
   "name": "python3"
  },
  "language_info": {
   "codemirror_mode": {
    "name": "ipython",
    "version": 3
   },
   "file_extension": ".py",
   "mimetype": "text/x-python",
   "name": "python",
   "nbconvert_exporter": "python",
   "pygments_lexer": "ipython3",
   "version": "3.10.9"
  }
 },
 "nbformat": 4,
 "nbformat_minor": 5
}
